{
  "cells": [
    {
      "cell_type": "markdown",
      "metadata": {},
      "source": [
        "# Лабораторна робота №2: Аналіз VHI\n",
        "Мета: завантаження даних з NOAA, аналіз вегетаційного індексу (VHI) по областях України."
      ]
    },
    {
      "cell_type": "code",
      "execution_count": null,
      "metadata": {},
      "outputs": [],
      "source": [
        "import urllib.request\n",
        "import pandas as pd\n",
        "import re\n",
        "from datetime import datetime\n",
        "from io import StringIO\n",
        "import matplotlib.pyplot as plt\n",
        "%matplotlib inline"
      ]
    },
    {
      "cell_type": "code",
      "execution_count": null,
      "metadata": {},
      "outputs": [],
      "source": [
        "region_names = {\n",
        "    1: \"Вінницька\", 2: \"Волинська\", 3: \"Дніпропетровська\", 4: \"Донецька\",\n",
        "    5: \"Житомирська\", 6: \"Закарпатська\", 7: \"Запорізька\", 8: \"Івано-Франківська\",\n",
        "    9: \"Київська\", 10: \"Кіровоградська\", 11: \"Луганська\", 12: \"Львівська\",\n",
        "    13: \"Миколаївська\", 14: \"Одеська\", 15: \"Полтавська\", 16: \"Рівненська\",\n",
        "    17: \"Сумська\", 18: \"Тернопільська\", 19: \"Харківська\", 20: \"Херсонська\",\n",
        "    21: \"Хмельницька\", 22: \"Черкаська\", 23: \"Чернівецька\", 24: \"Чернігівська\",\n",
        "    25: \"м.Київ\"\n",
        "}\n",
        "\n",
        "def clean_noaa_file(filename):\n",
        "    with open(filename, 'r', encoding='utf-8') as f:\n",
        "        content = f.read()\n",
        "\n",
        "    match = re.search(r'<tt><pre>(.*?)</pre>', content, re.DOTALL)\n",
        "    if not match:\n",
        "        return pd.DataFrame()\n",
        "\n",
        "    table_text = match.group(1).strip()\n",
        "    lines = [line.rstrip(', ').strip() for line in table_text.splitlines() if line.strip()]\n",
        "    data_str = '\\n'.join(lines)\n",
        "\n",
        "    df = pd.read_csv(\n",
        "        StringIO(data_str),\n",
        "        sep=r',\\s*',\n",
        "        engine='python',\n",
        "        names=['year', 'week', 'SMN', 'SMT', 'VCI', 'TCI', 'VHI']\n",
        "    )\n",
        "\n",
        "    df = df[df['year'].astype(str).str.match(r'^\\d{4}$', na=False)]\n",
        "    df['year'] = df['year'].astype(int)\n",
        "    df['week'] = df['week'].astype(int)\n",
        "    df['VHI'] = pd.to_numeric(df['VHI'], errors='coerce')\n",
        "    df = df[df['VHI'].notna() & (df['VHI'] != -1)]\n",
        "    return df"
      ]
    }
  ],
  "metadata": {
    "kernelspec": {
      "display_name": "Python 3",
      "language": "python",
      "name": "python3"
    },
    "language_info": {
      "codemirror_mode": {
        "name": "ipython",
        "version": 3
      },
      "file_extension": ".py",
      "mimetype": "text/x-python",
      "name": "python",
      "nbconvert_exporter": "python",
      "pygments_lexer": "ipython3",
      "version": "3.9.0"
    }
  },
  "nbformat": 4,
  "nbformat_minor": 5
}